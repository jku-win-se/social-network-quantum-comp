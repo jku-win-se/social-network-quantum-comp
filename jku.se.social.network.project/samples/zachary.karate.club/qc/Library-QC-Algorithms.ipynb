import import_ipynb
import GB1
import GB2_mod
import QA1
res_0=GB1.GB1(
graphname="ZacharyKarateClub"
	,backend='simulator'
	,subset_size=12
)
res_1=GB2_mod.GB2_mod(
graphname="ZacharyKarateClub"
	,k=None
	,backend='simulator'
	,subset_size=12
)
res_2=QA1.QA1(
graphname="ZacharyKarateClub"
)
