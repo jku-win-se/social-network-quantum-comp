import import_ipynb
import GB1
import GB2_mod
import QA1
res_0=GB1.GB1(				#function call should look like this: name_of_notebook.name_of_function(parameters);  
graphname="ZacharyKarateClub"		#e.g. in this example the first GB1 refers to the notebook which has been imported above, and the second GB1 refers to the 
	,backend='simulator'		# function GB1 which is defined in the notebook
	,subset_size=12
)
res_1=GB2_mod.GB2(
graphname="ZacharyKarateClub"
	,k=None
	,backend='simulator'
	,subset_size=12
)
res_2=QA1.QA1(
graphname="ZacharyKarateClub"
)
