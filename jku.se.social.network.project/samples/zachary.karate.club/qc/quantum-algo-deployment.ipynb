// Credentials
token = "alphanumeric_characters"
// ALgorithm Execution
res_0=GB1.GB1(graphname="ZacharyKarateClub",
,backend='simulator'
,subset_size=12
)
res_1=GB2_mod.GB2_mod(graphname="ZacharyKarateClub",
,k=None
,backend='simulator'
,subset_size=12
)
res_2=QA1.QA1(graphname="ZacharyKarateClub",
)
